{
 "cells": [
  {
   "cell_type": "markdown",
   "metadata": {},
   "source": [
    "## Setup"
   ]
  },
  {
   "cell_type": "code",
   "execution_count": 432,
   "metadata": {},
   "outputs": [],
   "source": [
    "from __future__ import annotations\n",
    "import typing\n",
    "import urllib.request\n",
    "import urllib.response\n",
    "import urllib.parse\n",
    "import http.client\n",
    "import json\n",
    "import pathlib\n",
    "import subprocess\n",
    "import collections\n",
    "import time"
   ]
  },
  {
   "cell_type": "code",
   "execution_count": 433,
   "metadata": {},
   "outputs": [],
   "source": [
    "HERE = pathlib.Path(\".\").absolute()"
   ]
  },
  {
   "cell_type": "code",
   "execution_count": 434,
   "metadata": {},
   "outputs": [],
   "source": [
    "class ServiceError(Exception):\n",
    "    def __init__(self, code: http.HTTPStatus, message: str) -> None:\n",
    "        super().__init__(f\"Error {code.value} {code.phrase}: {message}\")"
   ]
  },
  {
   "cell_type": "code",
   "execution_count": 435,
   "metadata": {},
   "outputs": [],
   "source": [
    "class NonRaisingHTTPErrorProcessor(urllib.request.HTTPErrorProcessor):\n",
    "    http_response = https_response = lambda self, request, response: response\n",
    "\n",
    "opener = urllib.request.build_opener(NonRaisingHTTPErrorProcessor)"
   ]
  },
  {
   "cell_type": "code",
   "execution_count": 436,
   "metadata": {},
   "outputs": [],
   "source": [
    "class Microservice:\n",
    "    path: pathlib.Path\n",
    "    port: int\n",
    "    port_private: int | None\n",
    "    process: subprocess.Popen\n",
    "    \n",
    "    def __init__(self, path: pathlib.Path, port: int, port_private: int | None = None) -> None:\n",
    "        self.path = path\n",
    "        self.port = port\n",
    "        self.port_private = port_private\n",
    "    \n",
    "    def start(self) -> None:\n",
    "        self.process = subprocess.Popen(\n",
    "            [\"go\", \"run\", \"main.go\"],\n",
    "            cwd=self.path,\n",
    "        )\n",
    "    \n",
    "    def stop(self) -> None:\n",
    "        self.process.terminate()\n",
    "        self.process.wait()\n",
    "        self.process.kill()\n",
    "    \n",
    "    def request(\n",
    "        self,\n",
    "        uri: str,\n",
    "        data: bytes | str | None = None,\n",
    "        headers: dict[str, str] = {},\n",
    "        method: str = \"GET\",\n",
    "        private: bool = False,\n",
    "    ) -> str:\n",
    "        port: int = self.port_private if private else self.port\n",
    "        assert port is not None\n",
    "        # print(f\"!!! requesting {method} http://localhost:{port}{uri}\")\n",
    "        request = urllib.request.Request(\n",
    "            url=f\"http://localhost:{port}{uri}\",\n",
    "            data=data,\n",
    "            headers=headers,\n",
    "            method=method,\n",
    "        )\n",
    "        response: http.client.HTTPResponse = opener.open(request)\n",
    "        body: str = response.read().decode().strip()\n",
    "        if not (200 <= response.status < 300):\n",
    "            raise ServiceError(http.HTTPStatus(response.status), body)\n",
    "        return body\n"
   ]
  },
  {
   "cell_type": "code",
   "execution_count": 437,
   "metadata": {},
   "outputs": [],
   "source": [
    "class UserSvc(Microservice):\n",
    "    def __init__(self):\n",
    "        super().__init__(\n",
    "            HERE.parent / \"user-service\",\n",
    "            8084,\n",
    "            8083,\n",
    "        )\n",
    "    \n",
    "    def _request(\n",
    "        self,\n",
    "        uri: str,\n",
    "        data: typing.Any,\n",
    "        method: str = \"GET\",\n",
    "        private: bool = False,\n",
    "    ) -> typing.Any:\n",
    "        resp = self.request(\n",
    "            uri=uri,\n",
    "            data=json.dumps(data).encode(),\n",
    "            method=method,\n",
    "            private=private,\n",
    "        ).strip()\n",
    "        \n",
    "        if not resp:\n",
    "            return None\n",
    "        return json.loads(resp)\n",
    "    \n",
    "    def login(self, login: str, password: str) -> str:\n",
    "        return self._request(\n",
    "            \"/user/login\",\n",
    "            {\n",
    "                \"login\": login,\n",
    "                \"password\": password,\n",
    "            },\n",
    "            method=\"POST\",\n",
    "        )\n",
    "    \n",
    "    def create(self, login: str, password: str) -> dict[typing.Literal[\"id\"], int]:\n",
    "        return self._request(\n",
    "            \"/user/create\",\n",
    "            {\n",
    "                \"login\": login,\n",
    "                \"password\": password,\n",
    "            },\n",
    "            method=\"POST\",\n",
    "        )\n",
    "    \n",
    "    def delete(self, token: str) -> None:\n",
    "        return self._request(\n",
    "            \"/user/delete\",\n",
    "            {\n",
    "                \"token\": token,\n",
    "            },\n",
    "            method=\"POST\",\n",
    "        )\n",
    "    \n",
    "    def edit(self, token: str, id: str, new_login: str, new_password: str) -> None:\n",
    "        return self._request(\n",
    "            \"/user/edit\",\n",
    "            {\n",
    "                \"token\": token,\n",
    "                \"id\": id,\n",
    "                \"newLogin\": new_login,\n",
    "                \"newPassword\": new_password,\n",
    "            },\n",
    "            method=\"POST\",\n",
    "        )\n",
    "    \n",
    "    def set_permissions(self, token: str, id: str, permissions: int) -> None:\n",
    "        return self._request(\n",
    "            \"/user/edit\",\n",
    "            {\n",
    "                \"token\": token,\n",
    "                \"id\": id,\n",
    "                \"permission\": permissions,\n",
    "            },\n",
    "            method=\"POST\",\n",
    "        )\n",
    "    \n",
    "    def refresh_token(self, token: str, refresh: str) -> str:\n",
    "        return self._request(\n",
    "            \"/user/refresh\",\n",
    "            {\n",
    "                \"token\": token,\n",
    "                \"refresh\": refresh,\n",
    "            },\n",
    "            method=\"POST\",\n",
    "        )\n",
    "    \n",
    "    def private_get_id(self, token: str) -> dict[typing.Literal[\"id\"], int]:\n",
    "        return self._request(\n",
    "            \"/user/id\",\n",
    "            {\n",
    "                \"token\": token,\n",
    "            },\n",
    "            method=\"POST\",\n",
    "            private=True,\n",
    "        )\n",
    "    \n",
    "    # The typo is deliberate, as it is in the actual service\n",
    "    def private_get_permissions(self, token: str) -> dict[typing.Literal[\"permissios\"], int]:\n",
    "        return self._request(\n",
    "            \"/user/permissions\",\n",
    "            {\n",
    "                \"token\": token,\n",
    "            },\n",
    "            method=\"POST\",\n",
    "            private=True,\n",
    "        )\n"
   ]
  },
  {
   "cell_type": "code",
   "execution_count": 438,
   "metadata": {},
   "outputs": [],
   "source": [
    "class _ReadRecorder(collections.UserDict):\n",
    "    accessed_keys: set[typing.Any]\n",
    "    \n",
    "    def __init__(self, *args, **kwargs):\n",
    "        super().__init__(*args, **kwargs)\n",
    "        self.accessed_keys = set()\n",
    "    \n",
    "    def __getitem__(self, key: str) -> typing.Any:\n",
    "        result = super().__getitem__(key)\n",
    "        self.accessed_keys.add(key)\n",
    "        return result"
   ]
  },
  {
   "cell_type": "code",
   "execution_count": 439,
   "metadata": {},
   "outputs": [],
   "source": [
    "class BookSvc(Microservice):\n",
    "    def __init__(self):\n",
    "        super().__init__(\n",
    "            HERE.parent / \"book-service\",\n",
    "            8082,\n",
    "        )\n",
    "    \n",
    "    def _request(\n",
    "        self,\n",
    "        uri: str,\n",
    "        query: dict[str, str] = {},\n",
    "        json_body: typing.Any | None = None,\n",
    "        auth: str | None = None,\n",
    "        method: str = \"GET\",\n",
    "    ) -> typing.Any:\n",
    "        headers = {}\n",
    "        if auth is not None:\n",
    "            headers[\"Authorization\"] = auth\n",
    "        \n",
    "        tmp_query = _ReadRecorder({\n",
    "            key: urllib.parse.quote(value) for key, value in query.items()\n",
    "        })\n",
    "        uri = uri.format_map(tmp_query)\n",
    "        query = {key: value for key, value in query.items() if key not in tmp_query.accessed_keys}\n",
    "        del tmp_query\n",
    "        \n",
    "        query = urllib.parse.urlencode(query)\n",
    "        if method == \"GET\":\n",
    "            uri += f\"?{query}\"\n",
    "            query = None\n",
    "        \n",
    "        resp = self.request(\n",
    "            uri=uri,\n",
    "            data=json.dumps(json_body).encode() or query if method != \"GET\" else None,\n",
    "            headers=headers,\n",
    "            method=method,\n",
    "        ).strip()\n",
    "        \n",
    "        if not resp:\n",
    "            return None\n",
    "        return json.loads(resp)\n",
    "\n",
    "    def get_books(self, criteria: str | None = None) -> list[dict[str, typing.Any]]:\n",
    "        return self._request(\n",
    "            \"/api/v1/books\",\n",
    "            query={\n",
    "                \"criteria\": criteria or \"\",\n",
    "            },\n",
    "            method=\"GET\",\n",
    "        )\n",
    "    \n",
    "    def get_book(self, id: str) -> dict[str, typing.Any]:\n",
    "        return self._request(\n",
    "            \"/api/v1/books/{id}\",\n",
    "            query={\n",
    "                \"id\": id,\n",
    "            },\n",
    "            method=\"GET\",\n",
    "        )\n",
    "    \n",
    "    def create_book(self, token: str, data: dict[str, typing.Any]) -> dict[str, typing.Any]:\n",
    "        return self._request(\n",
    "            \"/api/v1/books/new\",\n",
    "            json_body=data,\n",
    "            auth=token,\n",
    "            method=\"POST\",\n",
    "        )\n",
    "    \n",
    "    def update_book(self, token: str, id: str, data: dict[str, typing.Any]) -> dict[str, typing.Any]:\n",
    "        return self._request(\n",
    "            \"/api/v1/books/{id}\",\n",
    "            query={\n",
    "                \"id\": id,\n",
    "            },\n",
    "            json_body=data,\n",
    "            auth=token,\n",
    "            method=\"POST\",\n",
    "        )\n",
    "    \n",
    "    def delete_book(self, token: str, id: str) -> None:\n",
    "        return self._request(\n",
    "            \"/api/v1/books/{id}\",\n",
    "            query={\n",
    "                \"id\": id,\n",
    "            },\n",
    "            auth=token,\n",
    "            method=\"DELETE\",\n",
    "        )\n"
   ]
  },
  {
   "cell_type": "code",
   "execution_count": 440,
   "metadata": {},
   "outputs": [],
   "source": [
    "class LoanSvc(Microservice):\n",
    "    def __init__(self):\n",
    "        super().__init__(\n",
    "            HERE,\n",
    "            8080,\n",
    "            8081,\n",
    "        )\n",
    "    \n",
    "    def _request(\n",
    "        self,\n",
    "        uri: str,\n",
    "        query: dict[str, str] = {},\n",
    "        method: str = \"GET\",\n",
    "        private: bool = False,\n",
    "    ) -> typing.Any:\n",
    "        tmp_query = _ReadRecorder(query)\n",
    "        uri = uri.format_map(tmp_query)\n",
    "        query = {key: value for key, value in query.items() if key not in tmp_query.accessed_keys}\n",
    "        del tmp_query\n",
    "        \n",
    "        query = urllib.parse.urlencode(query)\n",
    "        if method == \"GET\":\n",
    "            uri += f\"?{query}\"\n",
    "            query = None\n",
    "        else:\n",
    "            query = query.encode()\n",
    "        \n",
    "        resp = self.request(\n",
    "            uri=uri,\n",
    "            data=query if method != \"GET\" else None,\n",
    "            method=method,\n",
    "            private=private,\n",
    "        ).strip()\n",
    "        \n",
    "        if not resp:\n",
    "            return None\n",
    "        return json.loads(resp)\n",
    "    \n",
    "    def take_book(self, token: str, book_id: str, user_id: str | None = None) -> dict[None, None]:\n",
    "        return self._request(\n",
    "            \"/api/v1/book/{bookID}/take\",\n",
    "            query={\n",
    "                \"auth\": token,\n",
    "                \"bookID\": book_id,\n",
    "                \"user\": user_id or \"\",\n",
    "            },\n",
    "            method=\"POST\",\n",
    "        )\n",
    "    \n",
    "    def return_book(self, token: str, book_id: str, user_id: str | None = None) -> dict[None, None]:\n",
    "        return self._request(\n",
    "            \"/api/v1/book/{bookID}/return\",\n",
    "            query={\n",
    "                \"auth\": token,\n",
    "                \"bookID\": book_id,\n",
    "                \"user\": user_id or \"\",\n",
    "            },\n",
    "            method=\"POST\",\n",
    "        )\n",
    "    \n",
    "    def count_available(self, token: str, book_id: str) -> dict[typing.Literal[\"available\"], int]:\n",
    "        return self._request(\n",
    "            \"/api/v1/book/{bookID}/avail\",\n",
    "            query={\n",
    "                \"auth\": token,\n",
    "                \"bookID\": book_id,\n",
    "            },\n",
    "            method=\"GET\",\n",
    "        )\n",
    "    \n",
    "    def get_reserved(self, token: str, at_time: float | None = None) -> dict[typing.Literal[\"reserved\"], list[dict[str, typing.Any]]]:\n",
    "        if at_time is None:\n",
    "            at_time = \"\"\n",
    "        else:\n",
    "            at_time = int(at_time)\n",
    "        return self._request(\n",
    "            \"/api/v1/reserved\",\n",
    "            query={\n",
    "                \"auth\": token,\n",
    "                \"atTime\": at_time,\n",
    "            },\n",
    "            method=\"GET\",\n",
    "        )\n",
    "    \n",
    "    def get_overdue(self, token: str, at_time: float | None = None) -> dict[typing.Literal[\"overdue\"], list[dict[str, typing.Any]]]:\n",
    "        if at_time is None:\n",
    "            at_time = \"\"\n",
    "        else:\n",
    "            at_time = int(at_time)\n",
    "        return self._request(\n",
    "            \"/api/v1/overdue\",\n",
    "            query={\n",
    "                \"auth\": token,\n",
    "                \"atTime\": at_time,\n",
    "            },\n",
    "            method=\"GET\",\n",
    "        )\n",
    "    \n",
    "    def get_user_loans(self, user_id: str) -> dict[typing.Literal[\"unreturned\"], int]:\n",
    "        return self._request(\n",
    "            \"/api/v1/userloans/{userID}\",\n",
    "            query={\n",
    "                \"userID\": user_id,\n",
    "            },\n",
    "            method=\"GET\",\n",
    "            private=True,\n",
    "        )\n"
   ]
  },
  {
   "cell_type": "code",
   "execution_count": 441,
   "metadata": {},
   "outputs": [],
   "source": [
    "users = UserSvc()\n",
    "books = BookSvc()\n",
    "loans = LoanSvc()"
   ]
  },
  {
   "cell_type": "code",
   "execution_count": 442,
   "metadata": {},
   "outputs": [],
   "source": [
    "def start_all() -> None:\n",
    "    users.start()\n",
    "    books.start()\n",
    "    loans.start()\n",
    "\n",
    "# TODO: Doesn't work --- needs recursive killing\n",
    "# def stop_all() -> None:\n",
    "#     loans.stop()\n",
    "#     books.stop()\n",
    "#     users.stop()"
   ]
  },
  {
   "cell_type": "markdown",
   "metadata": {},
   "source": [
    "## Demo"
   ]
  },
  {
   "cell_type": "code",
   "execution_count": 443,
   "metadata": {},
   "outputs": [],
   "source": [
    "start_all()"
   ]
  },
  {
   "cell_type": "markdown",
   "metadata": {},
   "source": [
    "### Users"
   ]
  },
  {
   "cell_type": "code",
   "execution_count": 161,
   "metadata": {},
   "outputs": [
    {
     "data": {
      "text/plain": [
       "{'Access': '23c7fdf1a3002f3c0455b7f3212a33a7fd11ff680da152cb1794b0ca1aaa3b3f9cac1dbc0e78834266e67d74ae6ff70051ff545fbbf2fbc6fa573bb07b366555',\n",
       " 'Refresh': '6a2cd0485229981b3ad5b38087daa7d611e55bcf452fa5c786f6a3a25c933dfa7e85d011fdef23d307d1dc6fdc0f5d861e7cce7df6f3a311eb47f8d20f95d35f',\n",
       " 'Expiration': '2024-12-11T21:18:52.3299181+03:00'}"
      ]
     },
     "execution_count": 161,
     "metadata": {},
     "output_type": "execute_result"
    }
   ],
   "source": [
    "token = users.login(\"admin\", \"superuser\")\n",
    "token"
   ]
  },
  {
   "cell_type": "code",
   "execution_count": 162,
   "metadata": {},
   "outputs": [],
   "source": [
    "auth = token[\"Access\"]"
   ]
  },
  {
   "cell_type": "code",
   "execution_count": 163,
   "metadata": {},
   "outputs": [
    {
     "data": {
      "text/plain": [
       "{'id': '2'}"
      ]
     },
     "execution_count": 163,
     "metadata": {},
     "output_type": "execute_result"
    }
   ],
   "source": [
    "users.create(\"pupa\", \"lupa\")"
   ]
  },
  {
   "cell_type": "code",
   "execution_count": 164,
   "metadata": {},
   "outputs": [
    {
     "data": {
      "text/plain": [
       "{'Access': '0a381cc7486d3b19188e3c48d58158856d6a0250b8dbc2f33fa73e251ae051d612a657472fd1f9b101f5d58d34bd608629c6d32de289aac7fb08c01f555fe732',\n",
       " 'Refresh': 'b158d67b42f13b49c30149fa0bbe38a817bbe50000b30c9a88928f8adbccc686802204a533e44b94790fca6ad0e0ccb052c16f9b29364303bcfe929c85cb66c8',\n",
       " 'Expiration': '2024-12-11T21:19:01.1462115+03:00'}"
      ]
     },
     "execution_count": 164,
     "metadata": {},
     "output_type": "execute_result"
    }
   ],
   "source": [
    "users.login(\"pupa\", \"lupa\")"
   ]
  },
  {
   "cell_type": "code",
   "execution_count": 165,
   "metadata": {},
   "outputs": [],
   "source": [
    "users.edit(auth, \"2\", \"pupa\", \"nelupa\")"
   ]
  },
  {
   "cell_type": "code",
   "execution_count": null,
   "metadata": {},
   "outputs": [
    {
     "ename": "ServiceError",
     "evalue": "Error 400 Bad Request: Error getting token",
     "output_type": "error",
     "traceback": [
      "\u001b[1;31m---------------------------------------------------------------------------\u001b[0m",
      "\u001b[1;31mServiceError\u001b[0m                              Traceback (most recent call last)",
      "Cell \u001b[1;32mIn [167], line 1\u001b[0m\n\u001b[1;32m----> 1\u001b[0m \u001b[43musers\u001b[49m\u001b[38;5;241;43m.\u001b[39;49m\u001b[43mlogin\u001b[49m\u001b[43m(\u001b[49m\u001b[38;5;124;43m\"\u001b[39;49m\u001b[38;5;124;43mpupa\u001b[39;49m\u001b[38;5;124;43m\"\u001b[39;49m\u001b[43m,\u001b[49m\u001b[43m \u001b[49m\u001b[38;5;124;43m\"\u001b[39;49m\u001b[38;5;124;43mlupa\u001b[39;49m\u001b[38;5;124;43m\"\u001b[39;49m\u001b[43m)\u001b[49m\n",
      "Cell \u001b[1;32mIn [139], line 28\u001b[0m, in \u001b[0;36mUserSvc.login\u001b[1;34m(self, login, password)\u001b[0m\n\u001b[0;32m     27\u001b[0m \u001b[38;5;28;01mdef\u001b[39;00m \u001b[38;5;21mlogin\u001b[39m(\u001b[38;5;28mself\u001b[39m, login: \u001b[38;5;28mstr\u001b[39m, password: \u001b[38;5;28mstr\u001b[39m) \u001b[38;5;241m-\u001b[39m\u001b[38;5;241m>\u001b[39m \u001b[38;5;28mstr\u001b[39m:\n\u001b[1;32m---> 28\u001b[0m     \u001b[38;5;28;01mreturn\u001b[39;00m \u001b[38;5;28;43mself\u001b[39;49m\u001b[38;5;241;43m.\u001b[39;49m\u001b[43m_request\u001b[49m\u001b[43m(\u001b[49m\n\u001b[0;32m     29\u001b[0m \u001b[43m        \u001b[49m\u001b[38;5;124;43m\"\u001b[39;49m\u001b[38;5;124;43m/user/login\u001b[39;49m\u001b[38;5;124;43m\"\u001b[39;49m\u001b[43m,\u001b[49m\n\u001b[0;32m     30\u001b[0m \u001b[43m        \u001b[49m\u001b[43m{\u001b[49m\n\u001b[0;32m     31\u001b[0m \u001b[43m            \u001b[49m\u001b[38;5;124;43m\"\u001b[39;49m\u001b[38;5;124;43mlogin\u001b[39;49m\u001b[38;5;124;43m\"\u001b[39;49m\u001b[43m:\u001b[49m\u001b[43m \u001b[49m\u001b[43mlogin\u001b[49m\u001b[43m,\u001b[49m\n\u001b[0;32m     32\u001b[0m \u001b[43m            \u001b[49m\u001b[38;5;124;43m\"\u001b[39;49m\u001b[38;5;124;43mpassword\u001b[39;49m\u001b[38;5;124;43m\"\u001b[39;49m\u001b[43m:\u001b[49m\u001b[43m \u001b[49m\u001b[43mpassword\u001b[49m\u001b[43m,\u001b[49m\n\u001b[0;32m     33\u001b[0m \u001b[43m        \u001b[49m\u001b[43m}\u001b[49m\u001b[43m,\u001b[49m\n\u001b[0;32m     34\u001b[0m \u001b[43m        \u001b[49m\u001b[43mmethod\u001b[49m\u001b[38;5;241;43m=\u001b[39;49m\u001b[38;5;124;43m\"\u001b[39;49m\u001b[38;5;124;43mPOST\u001b[39;49m\u001b[38;5;124;43m\"\u001b[39;49m\u001b[43m,\u001b[49m\n\u001b[0;32m     35\u001b[0m \u001b[43m    \u001b[49m\u001b[43m)\u001b[49m\n",
      "Cell \u001b[1;32mIn [139], line 16\u001b[0m, in \u001b[0;36mUserSvc._request\u001b[1;34m(self, uri, data, method, private)\u001b[0m\n\u001b[0;32m      9\u001b[0m \u001b[38;5;28;01mdef\u001b[39;00m \u001b[38;5;21m_request\u001b[39m(\n\u001b[0;32m     10\u001b[0m     \u001b[38;5;28mself\u001b[39m,\n\u001b[0;32m     11\u001b[0m     uri: \u001b[38;5;28mstr\u001b[39m,\n\u001b[1;32m   (...)\u001b[0m\n\u001b[0;32m     14\u001b[0m     private: \u001b[38;5;28mbool\u001b[39m \u001b[38;5;241m=\u001b[39m \u001b[38;5;28;01mFalse\u001b[39;00m,\n\u001b[0;32m     15\u001b[0m ) \u001b[38;5;241m-\u001b[39m\u001b[38;5;241m>\u001b[39m typing\u001b[38;5;241m.\u001b[39mAny:\n\u001b[1;32m---> 16\u001b[0m     resp \u001b[38;5;241m=\u001b[39m \u001b[38;5;28;43mself\u001b[39;49m\u001b[38;5;241;43m.\u001b[39;49m\u001b[43mrequest\u001b[49m\u001b[43m(\u001b[49m\n\u001b[0;32m     17\u001b[0m \u001b[43m        \u001b[49m\u001b[43muri\u001b[49m\u001b[38;5;241;43m=\u001b[39;49m\u001b[43muri\u001b[49m\u001b[43m,\u001b[49m\n\u001b[0;32m     18\u001b[0m \u001b[43m        \u001b[49m\u001b[43mdata\u001b[49m\u001b[38;5;241;43m=\u001b[39;49m\u001b[43mjson\u001b[49m\u001b[38;5;241;43m.\u001b[39;49m\u001b[43mdumps\u001b[49m\u001b[43m(\u001b[49m\u001b[43mdata\u001b[49m\u001b[43m)\u001b[49m\u001b[38;5;241;43m.\u001b[39;49m\u001b[43mencode\u001b[49m\u001b[43m(\u001b[49m\u001b[43m)\u001b[49m\u001b[43m,\u001b[49m\n\u001b[0;32m     19\u001b[0m \u001b[43m        \u001b[49m\u001b[43mmethod\u001b[49m\u001b[38;5;241;43m=\u001b[39;49m\u001b[43mmethod\u001b[49m\u001b[43m,\u001b[49m\n\u001b[0;32m     20\u001b[0m \u001b[43m        \u001b[49m\u001b[43mprivate\u001b[49m\u001b[38;5;241;43m=\u001b[39;49m\u001b[43mprivate\u001b[49m\u001b[43m,\u001b[49m\n\u001b[0;32m     21\u001b[0m \u001b[43m    \u001b[49m\u001b[43m)\u001b[49m\u001b[38;5;241m.\u001b[39mstrip()\n\u001b[0;32m     23\u001b[0m     \u001b[38;5;28;01mif\u001b[39;00m \u001b[38;5;129;01mnot\u001b[39;00m resp:\n\u001b[0;32m     24\u001b[0m         \u001b[38;5;28;01mreturn\u001b[39;00m \u001b[38;5;28;01mNone\u001b[39;00m\n",
      "Cell \u001b[1;32mIn [138], line 42\u001b[0m, in \u001b[0;36mMicroservice.request\u001b[1;34m(self, uri, data, headers, method, private)\u001b[0m\n\u001b[0;32m     40\u001b[0m body: \u001b[38;5;28mstr\u001b[39m \u001b[38;5;241m=\u001b[39m response\u001b[38;5;241m.\u001b[39mread()\u001b[38;5;241m.\u001b[39mdecode()\u001b[38;5;241m.\u001b[39mstrip()\n\u001b[0;32m     41\u001b[0m \u001b[38;5;28;01mif\u001b[39;00m \u001b[38;5;129;01mnot\u001b[39;00m (\u001b[38;5;241m200\u001b[39m \u001b[38;5;241m<\u001b[39m\u001b[38;5;241m=\u001b[39m response\u001b[38;5;241m.\u001b[39mstatus \u001b[38;5;241m<\u001b[39m \u001b[38;5;241m300\u001b[39m):\n\u001b[1;32m---> 42\u001b[0m     \u001b[38;5;28;01mraise\u001b[39;00m ServiceError(http\u001b[38;5;241m.\u001b[39mHTTPStatus(response\u001b[38;5;241m.\u001b[39mstatus), body)\n\u001b[0;32m     43\u001b[0m \u001b[38;5;28;01mreturn\u001b[39;00m body\n",
      "\u001b[1;31mServiceError\u001b[0m: Error 400 Bad Request: Error getting token"
     ]
    }
   ],
   "source": [
    "# users.login(\"pupa\", \"lupa\")"
   ]
  },
  {
   "cell_type": "code",
   "execution_count": 168,
   "metadata": {},
   "outputs": [
    {
     "data": {
      "text/plain": [
       "{'Access': '186cbfc5bed49333f46b9dc779bdd904ce26afadd4ee1bb4ee82775c948b40224bb27721f48578db4a82708bc8b78771554a928ae830aa2c0d8fb1671bf9162f',\n",
       " 'Refresh': 'ebdb453df0d86e74578420aa6f106fd9ae3d831318b03a6d8468d616d559c826b673ac08541ad9c4f765867afa97a014acba95b82db106f68f324e7be599b7fd',\n",
       " 'Expiration': '2024-12-11T21:19:25.6446216+03:00'}"
      ]
     },
     "execution_count": 168,
     "metadata": {},
     "output_type": "execute_result"
    }
   ],
   "source": [
    "users.login(\"pupa\", \"nelupa\")"
   ]
  },
  {
   "cell_type": "code",
   "execution_count": 303,
   "metadata": {},
   "outputs": [
    {
     "data": {
      "text/plain": [
       "{'id': '1'}"
      ]
     },
     "execution_count": 303,
     "metadata": {},
     "output_type": "execute_result"
    }
   ],
   "source": [
    "users.private_get_id(auth)"
   ]
  },
  {
   "cell_type": "code",
   "execution_count": 304,
   "metadata": {},
   "outputs": [
    {
     "data": {
      "text/plain": [
       "{'permissios': '17895697'}"
      ]
     },
     "execution_count": 304,
     "metadata": {},
     "output_type": "execute_result"
    }
   ],
   "source": [
    "users.private_get_permissions(auth)"
   ]
  },
  {
   "cell_type": "markdown",
   "metadata": {},
   "source": [
    "### Books"
   ]
  },
  {
   "cell_type": "code",
   "execution_count": 239,
   "metadata": {},
   "outputs": [],
   "source": [
    "auth = users.login(\"admin\", \"superuser\")[\"Access\"]"
   ]
  },
  {
   "cell_type": "code",
   "execution_count": 222,
   "metadata": {},
   "outputs": [
    {
     "data": {
      "text/plain": [
       "[{'id': '1',\n",
       "  'title': 'Go Programming Language',\n",
       "  'author': 'Alan Donovan, Kernigan',\n",
       "  'description': 'Good one',\n",
       "  'stock': '101'}]"
      ]
     },
     "execution_count": 222,
     "metadata": {},
     "output_type": "execute_result"
    }
   ],
   "source": [
    "books.get_books()"
   ]
  },
  {
   "cell_type": "code",
   "execution_count": 223,
   "metadata": {},
   "outputs": [
    {
     "data": {
      "text/plain": [
       "[]"
      ]
     },
     "execution_count": 223,
     "metadata": {},
     "output_type": "execute_result"
    }
   ],
   "source": [
    "books.get_books(\"Bible\")"
   ]
  },
  {
   "cell_type": "code",
   "execution_count": 224,
   "metadata": {},
   "outputs": [
    {
     "data": {
      "text/plain": [
       "[{'id': '1',\n",
       "  'title': 'Go Programming Language',\n",
       "  'author': 'Alan Donovan, Kernigan',\n",
       "  'description': 'Good one',\n",
       "  'stock': '101'}]"
      ]
     },
     "execution_count": 224,
     "metadata": {},
     "output_type": "execute_result"
    }
   ],
   "source": [
    "books.get_books(\"Kernigan\")"
   ]
  },
  {
   "cell_type": "code",
   "execution_count": 225,
   "metadata": {},
   "outputs": [
    {
     "data": {
      "text/plain": [
       "{'id': '1',\n",
       " 'title': 'Go Programming Language',\n",
       " 'author': 'Alan Donovan, Kernigan',\n",
       " 'description': 'Good one',\n",
       " 'stock': '101'}"
      ]
     },
     "execution_count": 225,
     "metadata": {},
     "output_type": "execute_result"
    }
   ],
   "source": [
    "books.get_book(\"1\")"
   ]
  },
  {
   "cell_type": "code",
   "execution_count": null,
   "metadata": {},
   "outputs": [
    {
     "ename": "ServiceError",
     "evalue": "Error 500 Internal Server Error: Failed to get book by ID: Could not load books: Book not found",
     "output_type": "error",
     "traceback": [
      "\u001b[1;31m---------------------------------------------------------------------------\u001b[0m",
      "\u001b[1;31mServiceError\u001b[0m                              Traceback (most recent call last)",
      "Cell \u001b[1;32mIn [226], line 1\u001b[0m\n\u001b[1;32m----> 1\u001b[0m \u001b[43mbooks\u001b[49m\u001b[38;5;241;43m.\u001b[39;49m\u001b[43mget_book\u001b[49m\u001b[43m(\u001b[49m\u001b[38;5;124;43m\"\u001b[39;49m\u001b[38;5;124;43m0\u001b[39;49m\u001b[38;5;124;43m\"\u001b[39;49m\u001b[43m)\u001b[49m\n",
      "Cell \u001b[1;32mIn [216], line 53\u001b[0m, in \u001b[0;36mBookSvc.get_book\u001b[1;34m(self, id)\u001b[0m\n\u001b[0;32m     52\u001b[0m \u001b[38;5;28;01mdef\u001b[39;00m \u001b[38;5;21mget_book\u001b[39m(\u001b[38;5;28mself\u001b[39m, \u001b[38;5;28mid\u001b[39m: \u001b[38;5;28mstr\u001b[39m) \u001b[38;5;241m-\u001b[39m\u001b[38;5;241m>\u001b[39m \u001b[38;5;28mdict\u001b[39m[\u001b[38;5;28mstr\u001b[39m, typing\u001b[38;5;241m.\u001b[39mAny]:\n\u001b[1;32m---> 53\u001b[0m     \u001b[38;5;28;01mreturn\u001b[39;00m \u001b[38;5;28;43mself\u001b[39;49m\u001b[38;5;241;43m.\u001b[39;49m\u001b[43m_request\u001b[49m\u001b[43m(\u001b[49m\n\u001b[0;32m     54\u001b[0m \u001b[43m        \u001b[49m\u001b[38;5;124;43m\"\u001b[39;49m\u001b[38;5;124;43m/api/v1/books/\u001b[39;49m\u001b[38;5;132;43;01m{id}\u001b[39;49;00m\u001b[38;5;124;43m\"\u001b[39;49m\u001b[43m,\u001b[49m\n\u001b[0;32m     55\u001b[0m \u001b[43m        \u001b[49m\u001b[43mquery\u001b[49m\u001b[38;5;241;43m=\u001b[39;49m\u001b[43m{\u001b[49m\n\u001b[0;32m     56\u001b[0m \u001b[43m            \u001b[49m\u001b[38;5;124;43m\"\u001b[39;49m\u001b[38;5;124;43mid\u001b[39;49m\u001b[38;5;124;43m\"\u001b[39;49m\u001b[43m:\u001b[49m\u001b[43m \u001b[49m\u001b[38;5;28;43mid\u001b[39;49m\u001b[43m,\u001b[49m\n\u001b[0;32m     57\u001b[0m \u001b[43m        \u001b[49m\u001b[43m}\u001b[49m\u001b[43m,\u001b[49m\n\u001b[0;32m     58\u001b[0m \u001b[43m        \u001b[49m\u001b[43mmethod\u001b[49m\u001b[38;5;241;43m=\u001b[39;49m\u001b[38;5;124;43m\"\u001b[39;49m\u001b[38;5;124;43mGET\u001b[39;49m\u001b[38;5;124;43m\"\u001b[39;49m\u001b[43m,\u001b[49m\n\u001b[0;32m     59\u001b[0m \u001b[43m    \u001b[49m\u001b[43m)\u001b[49m\n",
      "Cell \u001b[1;32mIn [216], line 32\u001b[0m, in \u001b[0;36mBookSvc._request\u001b[1;34m(self, uri, query, json_body, auth, method)\u001b[0m\n\u001b[0;32m     29\u001b[0m     uri \u001b[38;5;241m+\u001b[39m\u001b[38;5;241m=\u001b[39m \u001b[38;5;124mf\u001b[39m\u001b[38;5;124m\"\u001b[39m\u001b[38;5;124m?\u001b[39m\u001b[38;5;132;01m{\u001b[39;00mquery\u001b[38;5;132;01m}\u001b[39;00m\u001b[38;5;124m\"\u001b[39m\n\u001b[0;32m     30\u001b[0m     query \u001b[38;5;241m=\u001b[39m \u001b[38;5;28;01mNone\u001b[39;00m\n\u001b[1;32m---> 32\u001b[0m resp \u001b[38;5;241m=\u001b[39m \u001b[38;5;28;43mself\u001b[39;49m\u001b[38;5;241;43m.\u001b[39;49m\u001b[43mrequest\u001b[49m\u001b[43m(\u001b[49m\n\u001b[0;32m     33\u001b[0m \u001b[43m    \u001b[49m\u001b[43muri\u001b[49m\u001b[38;5;241;43m=\u001b[39;49m\u001b[43muri\u001b[49m\u001b[43m,\u001b[49m\n\u001b[0;32m     34\u001b[0m \u001b[43m    \u001b[49m\u001b[43mdata\u001b[49m\u001b[38;5;241;43m=\u001b[39;49m\u001b[43mjson\u001b[49m\u001b[38;5;241;43m.\u001b[39;49m\u001b[43mdumps\u001b[49m\u001b[43m(\u001b[49m\u001b[43mjson_body\u001b[49m\u001b[43m)\u001b[49m\u001b[38;5;241;43m.\u001b[39;49m\u001b[43mencode\u001b[49m\u001b[43m(\u001b[49m\u001b[43m)\u001b[49m\u001b[43m \u001b[49m\u001b[38;5;129;43;01mor\u001b[39;49;00m\u001b[43m \u001b[49m\u001b[43mquery\u001b[49m\u001b[43m \u001b[49m\u001b[38;5;28;43;01mif\u001b[39;49;00m\u001b[43m \u001b[49m\u001b[43mmethod\u001b[49m\u001b[43m \u001b[49m\u001b[38;5;241;43m!=\u001b[39;49m\u001b[43m \u001b[49m\u001b[38;5;124;43m\"\u001b[39;49m\u001b[38;5;124;43mGET\u001b[39;49m\u001b[38;5;124;43m\"\u001b[39;49m\u001b[43m \u001b[49m\u001b[38;5;28;43;01melse\u001b[39;49;00m\u001b[43m \u001b[49m\u001b[38;5;28;43;01mNone\u001b[39;49;00m\u001b[43m,\u001b[49m\n\u001b[0;32m     35\u001b[0m \u001b[43m    \u001b[49m\u001b[43mheaders\u001b[49m\u001b[38;5;241;43m=\u001b[39;49m\u001b[43mheaders\u001b[49m\u001b[43m,\u001b[49m\n\u001b[0;32m     36\u001b[0m \u001b[43m    \u001b[49m\u001b[43mmethod\u001b[49m\u001b[38;5;241;43m=\u001b[39;49m\u001b[43mmethod\u001b[49m\u001b[43m,\u001b[49m\n\u001b[0;32m     37\u001b[0m \u001b[43m\u001b[49m\u001b[43m)\u001b[49m\u001b[38;5;241m.\u001b[39mstrip()\n\u001b[0;32m     39\u001b[0m \u001b[38;5;28;01mif\u001b[39;00m \u001b[38;5;129;01mnot\u001b[39;00m resp:\n\u001b[0;32m     40\u001b[0m     \u001b[38;5;28;01mreturn\u001b[39;00m \u001b[38;5;28;01mNone\u001b[39;00m\n",
      "Cell \u001b[1;32mIn [213], line 42\u001b[0m, in \u001b[0;36mMicroservice.request\u001b[1;34m(self, uri, data, headers, method, private)\u001b[0m\n\u001b[0;32m     40\u001b[0m body: \u001b[38;5;28mstr\u001b[39m \u001b[38;5;241m=\u001b[39m response\u001b[38;5;241m.\u001b[39mread()\u001b[38;5;241m.\u001b[39mdecode()\u001b[38;5;241m.\u001b[39mstrip()\n\u001b[0;32m     41\u001b[0m \u001b[38;5;28;01mif\u001b[39;00m \u001b[38;5;129;01mnot\u001b[39;00m (\u001b[38;5;241m200\u001b[39m \u001b[38;5;241m<\u001b[39m\u001b[38;5;241m=\u001b[39m response\u001b[38;5;241m.\u001b[39mstatus \u001b[38;5;241m<\u001b[39m \u001b[38;5;241m300\u001b[39m):\n\u001b[1;32m---> 42\u001b[0m     \u001b[38;5;28;01mraise\u001b[39;00m ServiceError(http\u001b[38;5;241m.\u001b[39mHTTPStatus(response\u001b[38;5;241m.\u001b[39mstatus), body)\n\u001b[0;32m     43\u001b[0m \u001b[38;5;28;01mreturn\u001b[39;00m body\n",
      "\u001b[1;31mServiceError\u001b[0m: Error 500 Internal Server Error: Failed to get book by ID: Could not load books: Book not found"
     ]
    }
   ],
   "source": [
    "# books.get_book(\"0\")"
   ]
  },
  {
   "cell_type": "code",
   "execution_count": 242,
   "metadata": {},
   "outputs": [
    {
     "data": {
      "text/plain": [
       "{'id': '2'}"
      ]
     },
     "execution_count": 242,
     "metadata": {},
     "output_type": "execute_result"
    }
   ],
   "source": [
    "books.create_book(\n",
    "    auth,\n",
    "    {\n",
    "        \"id\": \"2\",\n",
    "        \"title\": \"The Bible\",\n",
    "        \"author\": \"God Almightly\",\n",
    "        \"description\": \"Also fine\",\n",
    "        \"stock\": \"0\",\n",
    "    },\n",
    ")"
   ]
  },
  {
   "cell_type": "code",
   "execution_count": 243,
   "metadata": {},
   "outputs": [
    {
     "data": {
      "text/plain": [
       "[{'id': '1',\n",
       "  'title': 'Go Programming Language',\n",
       "  'author': 'Alan Donovan, Kernigan',\n",
       "  'description': 'Good one',\n",
       "  'stock': '101'},\n",
       " {'id': '2',\n",
       "  'title': 'The Bible',\n",
       "  'author': 'God Almightly',\n",
       "  'description': 'Also fine',\n",
       "  'stock': '0'}]"
      ]
     },
     "execution_count": 243,
     "metadata": {},
     "output_type": "execute_result"
    }
   ],
   "source": [
    "books.get_books()"
   ]
  },
  {
   "cell_type": "code",
   "execution_count": 244,
   "metadata": {},
   "outputs": [],
   "source": [
    "books.delete_book(auth, \"2\")"
   ]
  },
  {
   "cell_type": "markdown",
   "metadata": {},
   "source": [
    "### Loans"
   ]
  },
  {
   "cell_type": "code",
   "execution_count": 444,
   "metadata": {},
   "outputs": [],
   "source": [
    "auth = users.login(\"admin\", \"superuser\")[\"Access\"]"
   ]
  },
  {
   "cell_type": "code",
   "execution_count": 456,
   "metadata": {},
   "outputs": [
    {
     "data": {
      "text/plain": [
       "{'available': 101}"
      ]
     },
     "execution_count": 456,
     "metadata": {},
     "output_type": "execute_result"
    }
   ],
   "source": [
    "loans.count_available(auth, \"1\")"
   ]
  },
  {
   "cell_type": "code",
   "execution_count": 457,
   "metadata": {},
   "outputs": [
    {
     "data": {
      "text/plain": [
       "{}"
      ]
     },
     "execution_count": 457,
     "metadata": {},
     "output_type": "execute_result"
    }
   ],
   "source": [
    "loans.take_book(auth, \"1\")"
   ]
  },
  {
   "cell_type": "code",
   "execution_count": 458,
   "metadata": {},
   "outputs": [],
   "source": [
    "time_taken = time.time()"
   ]
  },
  {
   "cell_type": "code",
   "execution_count": 459,
   "metadata": {},
   "outputs": [
    {
     "data": {
      "text/plain": [
       "{'available': 100}"
      ]
     },
     "execution_count": 459,
     "metadata": {},
     "output_type": "execute_result"
    }
   ],
   "source": [
    "loans.count_available(auth, \"1\")"
   ]
  },
  {
   "cell_type": "code",
   "execution_count": 460,
   "metadata": {},
   "outputs": [
    {
     "data": {
      "text/plain": [
       "{'unreturned': 1}"
      ]
     },
     "execution_count": 460,
     "metadata": {},
     "output_type": "execute_result"
    }
   ],
   "source": [
    "loans.get_user_loans(\"1\")"
   ]
  },
  {
   "cell_type": "code",
   "execution_count": 461,
   "metadata": {},
   "outputs": [
    {
     "data": {
      "text/plain": [
       "{'reserved': [{'id': 'b9ace95e-26d8-4f41-b206-e6f11f9c63c6',\n",
       "   'user_id': '1',\n",
       "   'book_id': '1',\n",
       "   'taken_at': 1733943944,\n",
       "   'return_deadline': 1735153544,\n",
       "   'returned': False,\n",
       "   'returned_at': 0}]}"
      ]
     },
     "execution_count": 461,
     "metadata": {},
     "output_type": "execute_result"
    }
   ],
   "source": [
    "loans.get_reserved(auth)"
   ]
  },
  {
   "cell_type": "code",
   "execution_count": 462,
   "metadata": {},
   "outputs": [
    {
     "data": {
      "text/plain": [
       "{'overdue': []}"
      ]
     },
     "execution_count": 462,
     "metadata": {},
     "output_type": "execute_result"
    }
   ],
   "source": [
    "loans.get_overdue(auth, at_time=time.time() + 60*60)"
   ]
  },
  {
   "cell_type": "code",
   "execution_count": 463,
   "metadata": {},
   "outputs": [
    {
     "data": {
      "text/plain": [
       "{'overdue': [{'id': 'b9ace95e-26d8-4f41-b206-e6f11f9c63c6',\n",
       "   'user_id': '1',\n",
       "   'book_id': '1',\n",
       "   'taken_at': 1733943944,\n",
       "   'return_deadline': 1735153544,\n",
       "   'returned': False,\n",
       "   'returned_at': 0}]}"
      ]
     },
     "execution_count": 463,
     "metadata": {},
     "output_type": "execute_result"
    }
   ],
   "source": [
    "loans.get_overdue(auth, at_time=time.time() + 15*24*60*60)"
   ]
  },
  {
   "cell_type": "code",
   "execution_count": 464,
   "metadata": {},
   "outputs": [
    {
     "data": {
      "text/plain": [
       "{}"
      ]
     },
     "execution_count": 464,
     "metadata": {},
     "output_type": "execute_result"
    }
   ],
   "source": [
    "loans.return_book(auth, \"1\")"
   ]
  },
  {
   "cell_type": "code",
   "execution_count": 465,
   "metadata": {},
   "outputs": [
    {
     "data": {
      "text/plain": [
       "{'reserved': []}"
      ]
     },
     "execution_count": 465,
     "metadata": {},
     "output_type": "execute_result"
    }
   ],
   "source": [
    "loans.get_reserved(auth)"
   ]
  },
  {
   "cell_type": "code",
   "execution_count": 466,
   "metadata": {},
   "outputs": [
    {
     "data": {
      "text/plain": [
       "{'reserved': [{'id': 'b9ace95e-26d8-4f41-b206-e6f11f9c63c6',\n",
       "   'user_id': '1',\n",
       "   'book_id': '1',\n",
       "   'taken_at': 1733943944,\n",
       "   'return_deadline': 1735153544,\n",
       "   'returned': True,\n",
       "   'returned_at': 1733943952}]}"
      ]
     },
     "execution_count": 466,
     "metadata": {},
     "output_type": "execute_result"
    }
   ],
   "source": [
    "loans.get_reserved(auth, at_time=time_taken)"
   ]
  },
  {
   "cell_type": "code",
   "execution_count": 467,
   "metadata": {},
   "outputs": [
    {
     "data": {
      "text/plain": [
       "{'unreturned': 0}"
      ]
     },
     "execution_count": 467,
     "metadata": {},
     "output_type": "execute_result"
    }
   ],
   "source": [
    "loans.get_user_loans(\"1\")"
   ]
  }
 ],
 "metadata": {
  "kernelspec": {
   "display_name": "Python 3",
   "language": "python",
   "name": "python3"
  },
  "language_info": {
   "codemirror_mode": {
    "name": "ipython",
    "version": 3
   },
   "file_extension": ".py",
   "mimetype": "text/x-python",
   "name": "python",
   "nbconvert_exporter": "python",
   "pygments_lexer": "ipython3",
   "version": "3.10.9"
  }
 },
 "nbformat": 4,
 "nbformat_minor": 2
}
